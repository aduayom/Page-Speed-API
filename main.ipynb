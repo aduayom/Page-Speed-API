{
 "cells": [
  {
   "cell_type": "code",
   "execution_count": null,
   "metadata": {},
   "outputs": [],
   "source": [
    "import requests\n",
    "\n",
    "def fetch_page_speed_data(api_key, url, strategy=\"mobile\"):\n",
    "    \"\"\"\n",
    "    Récupère les données de Google PageSpeed Insights pour une URL donnée.\n",
    "    \n",
    "    :param api_key: Votre clé API Google.\n",
    "    :param url: L'URL de la page à analyser.\n",
    "    :param strategy: La stratégie d'analyse ('mobile' ou 'desktop').\n",
    "    :return: Les données JSON de l'API PageSpeed Insights.\n",
    "    \"\"\"\n",
    "    base_url = \"https://www.googleapis.com/pagespeedonline/v5/runPagespeed\"\n",
    "    params = {\n",
    "        \"key\": api_key,\n",
    "        \"url\": url,\n",
    "        \"strategy\": strategy\n",
    "    }\n",
    "    response = requests.get(base_url, params=params)\n",
    "    \n",
    "    if response.status_code == 200:\n",
    "        return response.json()\n",
    "    else:\n",
    "        raise Exception(f\"Erreur lors de la requête : {response.status_code} - {response.text}\")"
   ]
  },
  {
   "cell_type": "code",
   "execution_count": null,
   "metadata": {},
   "outputs": [],
   "source": [
    "# Exemple d'utilisation\n",
    "api_key = \"VOTRE_CLÉ_API\"  # Remplacez par votre clé API\n",
    "url = \"https://www.example.com\"  # Remplacez par l'URL que vous souhaitez analyser\n",
    "\n",
    "try:\n",
    "    data = fetch_page_speed_data(api_key, url)\n",
    "    print(\"Titre de la page:\", data[\"lighthouseResult\"][\"finalUrl\"])\n",
    "    print(\"Score de performance:\", data[\"lighthouseResult\"][\"categories\"][\"performance\"][\"score\"] * 100)\n",
    "    print(\"Temps de chargement interactif:\", data[\"lighthouseResult\"][\"audits\"][\"interactive\"][\"displayValue\"])\n",
    "except Exception as e:\n",
    "    print(f\"Erreur: {e}\")\n"
   ]
  }
 ],
 "metadata": {
  "kernelspec": {
   "display_name": "base",
   "language": "python",
   "name": "python3"
  },
  "language_info": {
   "name": "python",
   "version": "3.11.5"
  }
 },
 "nbformat": 4,
 "nbformat_minor": 2
}
